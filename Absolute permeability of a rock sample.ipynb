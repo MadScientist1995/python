{
 "cells": [
  {
   "cell_type": "markdown",
   "id": "e3dac83f-cb99-4197-948a-30c3568fe541",
   "metadata": {
    "tags": []
   },
   "source": [
    "<center> <b> <h1> Absolute permeability of a rock sample </h1> </b> </center>"
   ]
  },
  {
   "cell_type": "markdown",
   "id": "3e73dd55-67db-4e3c-8663-a2c612364955",
   "metadata": {},
   "source": [
    "<h2> 1. Klinkenberg corrected permeability </h2>"
   ]
  },
  {
   "cell_type": "markdown",
   "id": "163a23b3-1fe2-4a62-9c94-25ee2230860f",
   "metadata": {
    "tags": []
   },
   "source": [
    "#### The porous media of Berea sandstone was fully saturated with air flow at a pressure of 150 bar. The data collected from this experiment will be initially analyzed using the Klinkenberg equation."
   ]
  },
  {
   "cell_type": "markdown",
   "id": "89cad50e-3d9c-4e33-903e-bbaef4b9ba0a",
   "metadata": {
    "tags": []
   },
   "source": [
    "$$ K_{air}=K_l\\left(1+\\frac{b}{P_{avg}}\\right) $$"
   ]
  },
  {
   "cell_type": "markdown",
   "id": "dd0acb43-23d2-4040-af71-7d78ec4ad773",
   "metadata": {},
   "source": [
    "#### The permeability of air ($K_{air}$) and the reciprocal of the average pressure ($1/P_{avg}$) will be determined by using the equations provided below."
   ]
  },
  {
   "cell_type": "markdown",
   "id": "b659d0a6-e967-43ba-8191-088a6867cb2f",
   "metadata": {},
   "source": [
    "$$ Q_2=\\frac{K_{air}A}{2{\\mu }_{air}l}\\frac{({P_1}^2-{P_2}^2)}{P_2} $$\n",
    "\n",
    "$$ P_{avg}=\\frac{P_1+P_2}{2} $$"
   ]
  },
  {
   "cell_type": "markdown",
   "id": "4cd3b403-09f3-4e82-9094-86e8143f85ad",
   "metadata": {},
   "source": [
    "#### The first five values from the table will be displayed. The data were imported from an Excel file."
   ]
  },
  {
   "cell_type": "code",
   "execution_count": 1,
   "id": "c9bc9fd7-daf3-4648-ac84-fc2c24a9031e",
   "metadata": {},
   "outputs": [
    {
     "data": {
      "text/html": [
       "<div>\n",
       "<style scoped>\n",
       "    .dataframe tbody tr th:only-of-type {\n",
       "        vertical-align: middle;\n",
       "    }\n",
       "\n",
       "    .dataframe tbody tr th {\n",
       "        vertical-align: top;\n",
       "    }\n",
       "\n",
       "    .dataframe thead th {\n",
       "        text-align: right;\n",
       "    }\n",
       "</style>\n",
       "<table border=\"1\" class=\"dataframe\">\n",
       "  <thead>\n",
       "    <tr style=\"text-align: right;\">\n",
       "      <th></th>\n",
       "      <th>DP(psia)</th>\n",
       "      <th>Q(ml/min)</th>\n",
       "    </tr>\n",
       "  </thead>\n",
       "  <tbody>\n",
       "    <tr>\n",
       "      <th>0</th>\n",
       "      <td>15.0</td>\n",
       "      <td>41</td>\n",
       "    </tr>\n",
       "    <tr>\n",
       "      <th>1</th>\n",
       "      <td>17.6</td>\n",
       "      <td>51</td>\n",
       "    </tr>\n",
       "    <tr>\n",
       "      <th>2</th>\n",
       "      <td>20.4</td>\n",
       "      <td>60</td>\n",
       "    </tr>\n",
       "    <tr>\n",
       "      <th>3</th>\n",
       "      <td>23.3</td>\n",
       "      <td>70</td>\n",
       "    </tr>\n",
       "    <tr>\n",
       "      <th>4</th>\n",
       "      <td>25.1</td>\n",
       "      <td>76</td>\n",
       "    </tr>\n",
       "  </tbody>\n",
       "</table>\n",
       "</div>"
      ],
      "text/plain": [
       "   DP(psia)  Q(ml/min)\n",
       "0      15.0         41\n",
       "1      17.6         51\n",
       "2      20.4         60\n",
       "3      23.3         70\n",
       "4      25.1         76"
      ]
     },
     "execution_count": 1,
     "metadata": {},
     "output_type": "execute_result"
    }
   ],
   "source": [
    "import pandas as pd\n",
    "\n",
    "#skiprows+2=excel_rows\n",
    "df = pd.read_excel(\"gas permeability.xlsx\", sheet_name=\"Klinkenberg150bar\", skiprows=6, usecols=[0, 1], nrows=38)\n",
    "df.columns = [\"DP(psia)\", \"Q(ml/min)\"]\n",
    "df.head()"
   ]
  },
  {
   "cell_type": "code",
   "execution_count": 2,
   "id": "6fe166aa-71ce-4644-8956-e256675908f2",
   "metadata": {},
   "outputs": [
    {
     "data": {
      "text/html": [
       "<div>\n",
       "<style scoped>\n",
       "    .dataframe tbody tr th:only-of-type {\n",
       "        vertical-align: middle;\n",
       "    }\n",
       "\n",
       "    .dataframe tbody tr th {\n",
       "        vertical-align: top;\n",
       "    }\n",
       "\n",
       "    .dataframe thead th {\n",
       "        text-align: right;\n",
       "    }\n",
       "</style>\n",
       "<table border=\"1\" class=\"dataframe\">\n",
       "  <thead>\n",
       "    <tr style=\"text-align: right;\">\n",
       "      <th></th>\n",
       "      <th>DP(psia)</th>\n",
       "      <th>Q(ml/min)</th>\n",
       "      <th>Q(ml/sec)</th>\n",
       "      <th>P1(atm)</th>\n",
       "      <th>1/Pavg(1/atm)</th>\n",
       "      <th>Kair(mD)</th>\n",
       "    </tr>\n",
       "  </thead>\n",
       "  <tbody>\n",
       "    <tr>\n",
       "      <th>0</th>\n",
       "      <td>15.0</td>\n",
       "      <td>41</td>\n",
       "      <td>0.700000</td>\n",
       "      <td>2.020689</td>\n",
       "      <td>0.662101</td>\n",
       "      <td>7.832344</td>\n",
       "    </tr>\n",
       "    <tr>\n",
       "      <th>1</th>\n",
       "      <td>17.6</td>\n",
       "      <td>51</td>\n",
       "      <td>0.866667</td>\n",
       "      <td>2.197609</td>\n",
       "      <td>0.625467</td>\n",
       "      <td>7.807376</td>\n",
       "    </tr>\n",
       "    <tr>\n",
       "      <th>2</th>\n",
       "      <td>20.4</td>\n",
       "      <td>60</td>\n",
       "      <td>1.016667</td>\n",
       "      <td>2.388138</td>\n",
       "      <td>0.590295</td>\n",
       "      <td>7.457245</td>\n",
       "    </tr>\n",
       "    <tr>\n",
       "      <th>3</th>\n",
       "      <td>23.3</td>\n",
       "      <td>70</td>\n",
       "      <td>1.183333</td>\n",
       "      <td>2.585471</td>\n",
       "      <td>0.557807</td>\n",
       "      <td>7.181183</td>\n",
       "    </tr>\n",
       "    <tr>\n",
       "      <th>4</th>\n",
       "      <td>25.1</td>\n",
       "      <td>76</td>\n",
       "      <td>1.283333</td>\n",
       "      <td>2.707954</td>\n",
       "      <td>0.539381</td>\n",
       "      <td>6.990729</td>\n",
       "    </tr>\n",
       "  </tbody>\n",
       "</table>\n",
       "</div>"
      ],
      "text/plain": [
       "   DP(psia)  Q(ml/min)  Q(ml/sec)   P1(atm)  1/Pavg(1/atm)  Kair(mD)\n",
       "0      15.0         41   0.700000  2.020689       0.662101  7.832344\n",
       "1      17.6         51   0.866667  2.197609       0.625467  7.807376\n",
       "2      20.4         60   1.016667  2.388138       0.590295  7.457245\n",
       "3      23.3         70   1.183333  2.585471       0.557807  7.181183\n",
       "4      25.1         76   1.283333  2.707954       0.539381  6.990729"
      ]
     },
     "execution_count": 2,
     "metadata": {},
     "output_type": "execute_result"
    }
   ],
   "source": [
    "import math \n",
    "\n",
    "Qoffset = -1\n",
    "df[\"Q(ml/sec)\"] = (df[\"Q(ml/min)\"] - Qoffset) / 60\n",
    "df[\"P1(atm)\"] = df[\"DP(psia)\"] * 0.068045957064302 + 1\n",
    "df[\"1/Pavg(1/atm)\"] = 2 / (df[\"P1(atm)\"] + 1)\n",
    "df[\"Kair(mD)\"] = (2000 * df[\"Q(ml/sec)\"] * 0.01844 * 1 * 4.751) / (math.pi * 2.543 ** 2 / 4 * \n",
    "                 (df[\"P1(atm)\"] ** 2 - 1 ** 2))\n",
    "df.head()"
   ]
  },
  {
   "cell_type": "markdown",
   "id": "12f7ab54-cf1f-4513-bd84-0d6b3a38e027",
   "metadata": {},
   "source": [
    "#### It is clear that the data follows a linear regression model when using the Klinkenberg equation."
   ]
  },
  {
   "cell_type": "code",
   "execution_count": 3,
   "id": "4e43c775-2323-44fe-bcba-d0d30145a266",
   "metadata": {},
   "outputs": [],
   "source": [
    "x1 = df[\"1/Pavg(1/atm)\"]\n",
    "y1 = df[\"Kair(mD)\"]"
   ]
  },
  {
   "cell_type": "code",
   "execution_count": 4,
   "id": "c8a071c5-99c4-42c6-9bb3-571e2508b4e5",
   "metadata": {},
   "outputs": [],
   "source": [
    "import statsmodels.api as sm\n",
    "\n",
    "x1 = sm.add_constant(x1)\n",
    "model1 = sm.OLS(y1, x1).fit()\n",
    "yhat = model1.predict(x1)"
   ]
  },
  {
   "cell_type": "code",
   "execution_count": 5,
   "id": "33be615b-4f13-4535-8218-48c7284fdb28",
   "metadata": {},
   "outputs": [
    {
     "data": {
      "image/png": "[encoded data removed]",
      "text/plain": [
       "<Figure size 1000x600 with 1 Axes>"
      ]
     },
     "metadata": {},
     "output_type": "display_data"
    }
   ],
   "source": [
    "import matplotlib.pyplot as plt\n",
    "import seaborn as sb\n",
    "\n",
    "sb.set_style('whitegrid')\n",
    "width = 10\n",
    "height = 6\n",
    "plt.figure(figsize=(width, height))\n",
    "plt.xlabel(\"$1/P_{avg}(1/atm)$\", fontsize = 10)\n",
    "plt.ylabel(\"$K_{air}(mD)$\", fontsize = 10)\n",
    "plt.title(\"Air permeability under 150 bar of overburden pressure\", fontsize = 14)\n",
    "\n",
    "plt.scatter(df[\"1/Pavg(1/atm)\"], df[\"Kair(mD)\"], label=\"experimental data\")\n",
    "plt.plot(df[\"1/Pavg(1/atm)\"], yhat, label=\"trend line\")\n",
    "plt.legend();"
   ]
  },
  {
   "cell_type": "code",
   "execution_count": 6,
   "id": "c0fd24d5-73db-4439-810d-c5e0c2400aea",
   "metadata": {},
   "outputs": [
    {
     "name": "stdout",
     "output_type": "stream",
     "text": [
      "The linear regression estimator y is  \n",
      "6.687 x + 3.435\n"
     ]
    }
   ],
   "source": [
    "import numpy as np\n",
    "\n",
    "f = np.polyfit(df[\"1/Pavg(1/atm)\"], df[\"Kair(mD)\"], 1)\n",
    "p = np.poly1d(f)\n",
    "print(\"The linear regression estimator y is\", p)"
   ]
  },
  {
   "cell_type": "code",
   "execution_count": 7,
   "id": "3052efd4-ffed-4dbe-9fda-866933ef1a49",
   "metadata": {},
   "outputs": [
    {
     "name": "stdout",
     "output_type": "stream",
     "text": [
      "                            OLS Regression Results                            \n",
      "==============================================================================\n",
      "Dep. Variable:               Kair(mD)   R-squared:                       0.994\n",
      "Model:                            OLS   Adj. R-squared:                  0.994\n",
      "Method:                 Least Squares   F-statistic:                     5946.\n",
      "Date:                Sun, 21 May 2023   Prob (F-statistic):           1.42e-41\n",
      "Time:                        22:43:10   Log-Likelihood:                 51.915\n",
      "No. Observations:                  38   AIC:                            -99.83\n",
      "Df Residuals:                      36   BIC:                            -96.55\n",
      "Df Model:                           1                                         \n",
      "Covariance Type:            nonrobust                                         \n",
      "=================================================================================\n",
      "                    coef    std err          t      P>|t|      [0.025      0.975]\n",
      "---------------------------------------------------------------------------------\n",
      "const             3.4350      0.035     98.777      0.000       3.364       3.505\n",
      "1/Pavg(1/atm)     6.6871      0.087     77.111      0.000       6.511       6.863\n",
      "==============================================================================\n",
      "Omnibus:                        2.655   Durbin-Watson:                   0.840\n",
      "Prob(Omnibus):                  0.265   Jarque-Bera (JB):                1.607\n",
      "Skew:                           0.211   Prob(JB):                        0.448\n",
      "Kurtosis:                       3.915   Cond. No.                         9.68\n",
      "==============================================================================\n",
      "\n",
      "Notes:\n",
      "[1] Standard Errors assume that the covariance matrix of the errors is correctly specified.\n"
     ]
    }
   ],
   "source": [
    "print_model = model1.summary()\n",
    "print(print_model)"
   ]
  },
  {
   "cell_type": "markdown",
   "id": "d86c41c2-32a5-4e1a-ba30-ff027c73cd23",
   "metadata": {},
   "source": [
    "#### The R-squared coefficient is close to 1, indicating a strong correlation between the trend line and the data. This confirms that the trend line fits the data well. Additionally, the R-squared value is consistent with a linear regression model."
   ]
  },
  {
   "cell_type": "markdown",
   "id": "7ccf22ea-3d3a-45be-a7b9-46571ea22d46",
   "metadata": {},
   "source": [
    "#### $${\\boldsymbol{K}}_{\\boldsymbol{l}}\\boldsymbol{=}{\\boldsymbol{3},\\boldsymbol{43}}^{\\boldsymbol{\\ +}}_{\\boldsymbol{\\ -}}\\boldsymbol{\\ }\\boldsymbol{0},\\boldsymbol{03}\\boldsymbol{\\ }\\boldsymbol{mD}$$"
   ]
  },
  {
   "cell_type": "markdown",
   "id": "f08e5dfe-728b-4428-8387-48f3f196e124",
   "metadata": {},
   "source": [
    "#### A data frame containing experimental data will be utilized, which were collected at an overburden pressure of 60 bar."
   ]
  },
  {
   "cell_type": "code",
   "execution_count": 8,
   "id": "fe377f10-f1dd-4ff9-b246-07cac16dd0c1",
   "metadata": {},
   "outputs": [
    {
     "data": {
      "text/html": [
       "<div>\n",
       "<style scoped>\n",
       "    .dataframe tbody tr th:only-of-type {\n",
       "        vertical-align: middle;\n",
       "    }\n",
       "\n",
       "    .dataframe tbody tr th {\n",
       "        vertical-align: top;\n",
       "    }\n",
       "\n",
       "    .dataframe thead th {\n",
       "        text-align: right;\n",
       "    }\n",
       "</style>\n",
       "<table border=\"1\" class=\"dataframe\">\n",
       "  <thead>\n",
       "    <tr style=\"text-align: right;\">\n",
       "      <th></th>\n",
       "      <th>DP(psia)</th>\n",
       "      <th>Q(ml/min)</th>\n",
       "    </tr>\n",
       "  </thead>\n",
       "  <tbody>\n",
       "    <tr>\n",
       "      <th>0</th>\n",
       "      <td>5.4</td>\n",
       "      <td>120.0</td>\n",
       "    </tr>\n",
       "    <tr>\n",
       "      <th>1</th>\n",
       "      <td>6.6</td>\n",
       "      <td>151.0</td>\n",
       "    </tr>\n",
       "    <tr>\n",
       "      <th>2</th>\n",
       "      <td>7.5</td>\n",
       "      <td>173.0</td>\n",
       "    </tr>\n",
       "    <tr>\n",
       "      <th>3</th>\n",
       "      <td>8.4</td>\n",
       "      <td>197.0</td>\n",
       "    </tr>\n",
       "    <tr>\n",
       "      <th>4</th>\n",
       "      <td>9.5</td>\n",
       "      <td>225.0</td>\n",
       "    </tr>\n",
       "  </tbody>\n",
       "</table>\n",
       "</div>"
      ],
      "text/plain": [
       "   DP(psia)  Q(ml/min)\n",
       "0       5.4      120.0\n",
       "1       6.6      151.0\n",
       "2       7.5      173.0\n",
       "3       8.4      197.0\n",
       "4       9.5      225.0"
      ]
     },
     "execution_count": 8,
     "metadata": {},
     "output_type": "execute_result"
    }
   ],
   "source": [
    "df2 = pd.read_excel(\"gas permeability.xlsx\", sheet_name=\"second order slip equation\", skiprows=0, \n",
    "      usecols=[0, 1], nrows=36) #skiprows+2=excel_rows\n",
    "df2.columns = [\"DP(psia)\", \"Q(ml/min)\"]\n",
    "df2.head()"
   ]
  },
  {
   "cell_type": "code",
   "execution_count": 9,
   "id": "19674159-67c2-47c8-8c6a-36801eadb958",
   "metadata": {},
   "outputs": [],
   "source": [
    "df2[\"Q(ml/sec)\"] = df2[\"Q(ml/min)\"] / 60\n",
    "df2[\"P1(atm)\"] = df2[\"DP(psia)\"] * 0.068045957064302 + 1\n",
    "df2[\"1/Pavg(1/atm)\"] = 2 / (df2[\"P1(atm)\"] + 1)\n",
    "df2[\"Kair(mD)\"] = (2000 * df2[\"Q(ml/sec)\"] * 0.01844 * 1 * 4.751) / (math.pi * 2.543 ** 2 / 4 * \n",
    "                  (df2[\"P1(atm)\"] ** 2 - 1 ** 2))"
   ]
  },
  {
   "cell_type": "markdown",
   "id": "f5b5366f-6859-440a-a126-b2aeb999c12d",
   "metadata": {},
   "source": [
    "<li><b>The data align with both the second order slip equation and the Klinkenberg equation. As can be seen from the graphs below, the reciprocal pressure range is limited, making it unclear which regression model best fits the data due to experimental limitations. The first equation is a generalized air flow predictor and coincides with the second when the slip flow of molecules on the capillary wall is insignificant. In order to evaluate whether the data is sufficient to predict corrected permeability using the quadratic regression model, the statistical table will be analyzed more extensively. The second order slip equation is:\n",
    "</b></li>"
   ]
  },
  {
   "cell_type": "markdown",
   "id": "1d911f5a-21f9-4a78-b5f9-2172a1a95730",
   "metadata": {},
   "source": [
    "$$K_{air}=K_l\\left(1+A\\frac{1}{P_{avg}}+B\\frac{1}{{P_{avg}}^2}\\right)$$"
   ]
  },
  {
   "cell_type": "code",
   "execution_count": 10,
   "id": "b147479a-3510-4f1e-a8c8-78440b01432a",
   "metadata": {},
   "outputs": [],
   "source": [
    "x2 = df2[\"1/Pavg(1/atm)\"]\n",
    "y2 = df2[\"Kair(mD)\"]\n",
    "\n",
    "inds = x2.ravel().argsort()   \n",
    "x2 = x2.ravel()[inds].reshape(-1,1)\n",
    "y2 = y2[inds] "
   ]
  },
  {
   "cell_type": "code",
   "execution_count": 11,
   "id": "4f4f39dc-cedb-4840-aa08-046daa22faba",
   "metadata": {},
   "outputs": [],
   "source": [
    "from sklearn.preprocessing import PolynomialFeatures\n",
    "\n",
    "polynomial_features = PolynomialFeatures(degree=2)\n",
    "xp2 = polynomial_features.fit_transform(x2)"
   ]
  },
  {
   "cell_type": "code",
   "execution_count": 12,
   "id": "fa1159d4-de18-4471-b807-17d52fb454f1",
   "metadata": {},
   "outputs": [],
   "source": [
    "model2 = sm.OLS(y2, xp2).fit()\n",
    "ypred = model2.predict(xp2)"
   ]
  },
  {
   "cell_type": "code",
   "execution_count": 13,
   "id": "d8fe319f-8911-49cd-a9ff-1e8068e7ddca",
   "metadata": {},
   "outputs": [],
   "source": [
    "x3 = df2[\"1/Pavg(1/atm)\"]\n",
    "y3 = df2[\"Kair(mD)\"]\n",
    "\n",
    "x3 = sm.add_constant(x3)\n",
    "model3 = sm.OLS(y3, x3).fit()\n",
    "yhat2 = model3.predict(x3)"
   ]
  },
  {
   "cell_type": "code",
   "execution_count": 14,
   "id": "a930ebe1-6551-4383-820f-88e58ee4dd7b",
   "metadata": {},
   "outputs": [
    {
     "data": {
      "image/png": "[encoded data removed]",
      "text/plain": [
       "<Figure size 2200x800 with 2 Axes>"
      ]
     },
     "metadata": {},
     "output_type": "display_data"
    }
   ],
   "source": [
    "from matplotlib import rcParams\n",
    "\n",
    "rcParams['figure.figsize'] = 22, 8\n",
    "plt.figure()\n",
    "\n",
    "plt.subplot(1,2,1)\n",
    "plt.scatter(x2, y2, label=\"experimental data\")\n",
    "plt.plot(x2, ypred, label=\"Quadratic trend line\")\n",
    "plt.xlabel(\"$1/P_{avg}(1/atm)$\", fontsize = 12)\n",
    "plt.ylabel(\"$K_{air}(mD)$\", fontsize = 12)\n",
    "plt.title(\"Air permeability under 60 bar of overburden pressure\", fontsize = 14)\n",
    "plt.legend();\n",
    "\n",
    "plt.subplot(1,2,2)\n",
    "plt.scatter(df2[\"1/Pavg(1/atm)\"],  df2[\"Kair(mD)\"], label=\"experimental data\")\n",
    "plt.plot(df2[\"1/Pavg(1/atm)\"], yhat2, label=\"Linear trend line\")\n",
    "plt.xlabel(\"$1/P_{avg}(1/atm)$\", fontsize = 12)\n",
    "plt.ylabel(\"$K_{air}(mD)$\", fontsize = 12)\n",
    "plt.title(\"Air permeability under 60 bar of overburden pressure\", fontsize = 14)\n",
    "plt.legend();"
   ]
  },
  {
   "cell_type": "markdown",
   "id": "cb14460d-38fb-4c39-9652-3a08e5183404",
   "metadata": {},
   "source": [
    "#### The predictor y of the quadratic line equation is represented by:"
   ]
  },
  {
   "cell_type": "code",
   "execution_count": 15,
   "id": "ea995366-4329-43a9-b24f-cdd1c5232b41",
   "metadata": {},
   "outputs": [
    {
     "name": "stdout",
     "output_type": "stream",
     "text": [
      "        2\n",
      "-45.81 x + 113 x + 16.92\n"
     ]
    }
   ],
   "source": [
    "f = np.polyfit(df2[\"1/Pavg(1/atm)\"], df2[\"Kair(mD)\"], 2)\n",
    "p = np.poly1d(f)\n",
    "print(p)"
   ]
  },
  {
   "cell_type": "code",
   "execution_count": 16,
   "id": "1657bbc4-6737-485f-bc15-00d1d62e7eef",
   "metadata": {},
   "outputs": [
    {
     "name": "stdout",
     "output_type": "stream",
     "text": [
      "                            OLS Regression Results                            \n",
      "==============================================================================\n",
      "Dep. Variable:               Kair(mD)   R-squared:                       0.951\n",
      "Model:                            OLS   Adj. R-squared:                  0.948\n",
      "Method:                 Least Squares   F-statistic:                     320.4\n",
      "Date:                Sun, 21 May 2023   Prob (F-statistic):           2.43e-22\n",
      "Time:                        22:43:11   Log-Likelihood:                -18.475\n",
      "No. Observations:                  36   AIC:                             42.95\n",
      "Df Residuals:                      33   BIC:                             47.70\n",
      "Df Model:                           2                                         \n",
      "Covariance Type:            nonrobust                                         \n",
      "==============================================================================\n",
      "                 coef    std err          t      P>|t|      [0.025      0.975]\n",
      "------------------------------------------------------------------------------\n",
      "const         16.9162     21.859      0.774      0.445     -27.556      61.388\n",
      "x1           112.9544     55.959      2.019      0.052      -0.894     226.803\n",
      "x2           -45.8060     35.732     -1.282      0.209    -118.503      26.891\n",
      "==============================================================================\n",
      "Omnibus:                        0.436   Durbin-Watson:                   1.406\n",
      "Prob(Omnibus):                  0.804   Jarque-Bera (JB):                0.586\n",
      "Skew:                           0.139   Prob(JB):                        0.746\n",
      "Kurtosis:                       2.441   Cond. No.                     1.39e+03\n",
      "==============================================================================\n",
      "\n",
      "Notes:\n",
      "[1] Standard Errors assume that the covariance matrix of the errors is correctly specified.\n",
      "[2] The condition number is large, 1.39e+03. This might indicate that there are\n",
      "strong multicollinearity or other numerical problems.\n"
     ]
    }
   ],
   "source": [
    "print(model2.summary())"
   ]
  },
  {
   "cell_type": "markdown",
   "id": "671e6640-26d1-4ab7-a93c-c94ac1900d66",
   "metadata": {
    "tags": []
   },
   "source": [
    "<ul>\n",
    "<li><b>The R-squared coefficient is close to 1, which confirms that the trend line is a good fit for the data. Additionally, the R-squared value for the quadratic trend line is slightly lower than the linear trend line, but it still fits the data well.</b></li>\n",
    "<li><b>The P-value of the F-test is very close to 0, which allows us to reject the null hypothesis that the model with no independent variables fits the data as well as the current model. This is evident and the probability that the second-degree polynomial fits the data by chance is equal to the P-value.</b></li>\n",
    "<li><b>The standard errors of the coefficients are quite large. Only the p-value of x1 on the t-test is slightly larger than alpha=0.05, but the standard error is still less than half the mean value. The same can be said for the coefficients values within the 95% confidence interval.</b></li>\n",
    "<li><b> A high condition number suggests a strong presence of multicollinearity, as can be observed in the figures.\n",
    "</ul>"
   ]
  },
  {
   "cell_type": "markdown",
   "id": "34c3f0d2-9f34-4325-a76e-e068baa7c84f",
   "metadata": {},
   "source": [
    "#### In summary, the regression results indicate that the quadratic trend line fits the data well, but the uncertainty of the coefficients increases as the multicollinearity becomes stronger."
   ]
  },
  {
   "cell_type": "code",
   "execution_count": 17,
   "id": "5ae670e3-f828-4845-87f8-0f4c905dab53",
   "metadata": {},
   "outputs": [
    {
     "name": "stdout",
     "output_type": "stream",
     "text": [
      "The standard error of the y estimate is 0.4222172860759531 mD\n"
     ]
    }
   ],
   "source": [
    "print(\"The standard error of the y estimate is\", np.sqrt(model2.scale), \"mD\")"
   ]
  },
  {
   "cell_type": "markdown",
   "id": "e3b0fc0f-c5ec-4ae5-8557-8e9f285a7dd9",
   "metadata": {},
   "source": [
    "#### $${\\boldsymbol{K}}_{\\boldsymbol{l}}\\boldsymbol{=}{\\boldsymbol{16},\\boldsymbol{9}\\boldsymbol{1}\\boldsymbol{\\ }}^{\\boldsymbol{+}}_{\\boldsymbol{-}}\\boldsymbol{\\ }\\boldsymbol{0}.\\boldsymbol{42}\\boldsymbol{\\ }\\boldsymbol{mD}$$"
   ]
  },
  {
   "cell_type": "markdown",
   "id": "34ed2641-bc54-4274-ac79-e0b4cd0124d8",
   "metadata": {},
   "source": [
    "#### <b>The small value of the standard error of the estimator confirms that the fit is valid if the order of the regression model is known beforehand, as shown in the statistical table.</b>"
   ]
  },
  {
   "cell_type": "markdown",
   "id": "51e057dd-c9e9-4fbe-a595-50d2bbac5fba",
   "metadata": {},
   "source": [
    "<h2> 2. Permeability of water </h2>"
   ]
  },
  {
   "cell_type": "markdown",
   "id": "2595be2d-0d2c-4d76-a87d-7e44ff8c8df2",
   "metadata": {},
   "source": [
    "#### It takes 1200 minutes for the pressure of water flow to stabilize for only two values when the flow rate is low and the overburden pressure is 60 bar. Using Darcy's law, the water permeability ($K_w$) will be calculated from the pressure values."
   ]
  },
  {
   "cell_type": "markdown",
   "id": "a3d4908b-c665-4e04-9834-d9f1be3b3720",
   "metadata": {},
   "source": [
    "$$K_w=\\frac{Q{\\mu }_wL}{A\\mathit{\\Delta}P}$$ "
   ]
  },
  {
   "cell_type": "code",
   "execution_count": 18,
   "id": "6dfabc95-0814-4d0a-81a8-98e16eeef472",
   "metadata": {},
   "outputs": [
    {
     "data": {
      "text/html": [
       "<div>\n",
       "<style scoped>\n",
       "    .dataframe tbody tr th:only-of-type {\n",
       "        vertical-align: middle;\n",
       "    }\n",
       "\n",
       "    .dataframe tbody tr th {\n",
       "        vertical-align: top;\n",
       "    }\n",
       "\n",
       "    .dataframe thead th {\n",
       "        text-align: right;\n",
       "    }\n",
       "</style>\n",
       "<table border=\"1\" class=\"dataframe\">\n",
       "  <thead>\n",
       "    <tr style=\"text-align: right;\">\n",
       "      <th></th>\n",
       "      <th>DP1(atm)</th>\n",
       "      <th>DP2(atm)</th>\n",
       "    </tr>\n",
       "  </thead>\n",
       "  <tbody>\n",
       "    <tr>\n",
       "      <th>0</th>\n",
       "      <td>9.138694</td>\n",
       "      <td>8.566292</td>\n",
       "    </tr>\n",
       "    <tr>\n",
       "      <th>1</th>\n",
       "      <td>9.089349</td>\n",
       "      <td>8.526816</td>\n",
       "    </tr>\n",
       "    <tr>\n",
       "      <th>2</th>\n",
       "      <td>9.128825</td>\n",
       "      <td>8.556423</td>\n",
       "    </tr>\n",
       "    <tr>\n",
       "      <th>3</th>\n",
       "      <td>9.089349</td>\n",
       "      <td>8.546554</td>\n",
       "    </tr>\n",
       "    <tr>\n",
       "      <th>4</th>\n",
       "      <td>9.099218</td>\n",
       "      <td>8.516947</td>\n",
       "    </tr>\n",
       "  </tbody>\n",
       "</table>\n",
       "</div>"
      ],
      "text/plain": [
       "   DP1(atm)  DP2(atm)\n",
       "0  9.138694  8.566292\n",
       "1  9.089349  8.526816\n",
       "2  9.128825  8.556423\n",
       "3  9.089349  8.546554\n",
       "4  9.099218  8.516947"
      ]
     },
     "execution_count": 18,
     "metadata": {},
     "output_type": "execute_result"
    }
   ],
   "source": [
    "#skiprows+2=excel_rows\n",
    "df3 = pd.read_excel(\"liquid permeability.xlsx\", sheet_name=\"Kw60bar2\", skiprows=0, usecols=[1, 4], nrows=16)  \n",
    "df3.columns = [\"DP1(atm)\", \"DP2(atm)\"]\n",
    "df3.head()"
   ]
  },
  {
   "cell_type": "code",
   "execution_count": 19,
   "id": "f754d810-0ff8-42f3-bbec-fa2b4e8fade4",
   "metadata": {},
   "outputs": [],
   "source": [
    "df3[\"Kw1(mD)\"] = 1000 * 4 / 60 * 1 * 4.751 / (math.pi * 2.543 ** 2 / 4 * df3[\"DP1(atm)\"])\n",
    "df3[\"Kw2(mD)\"] = 1000 * 3.5 / 60 * 1 * 4.751 / (math.pi * 2.543 ** 2 / 4 * df3[\"DP2(atm)\"])"
   ]
  },
  {
   "cell_type": "code",
   "execution_count": 20,
   "id": "cf24e1e8-72a7-4920-8a24-d5479a9fec45",
   "metadata": {},
   "outputs": [
    {
     "data": {
      "text/html": [
       "<div>\n",
       "<style scoped>\n",
       "    .dataframe tbody tr th:only-of-type {\n",
       "        vertical-align: middle;\n",
       "    }\n",
       "\n",
       "    .dataframe tbody tr th {\n",
       "        vertical-align: top;\n",
       "    }\n",
       "\n",
       "    .dataframe thead th {\n",
       "        text-align: right;\n",
       "    }\n",
       "</style>\n",
       "<table border=\"1\" class=\"dataframe\">\n",
       "  <thead>\n",
       "    <tr style=\"text-align: right;\">\n",
       "      <th></th>\n",
       "      <th>DP1(atm)</th>\n",
       "      <th>DP2(atm)</th>\n",
       "      <th>Kw1(mD)</th>\n",
       "      <th>Kw2(mD)</th>\n",
       "    </tr>\n",
       "  </thead>\n",
       "  <tbody>\n",
       "    <tr>\n",
       "      <th>0</th>\n",
       "      <td>9.138694</td>\n",
       "      <td>8.566292</td>\n",
       "      <td>6.823812</td>\n",
       "      <td>6.369808</td>\n",
       "    </tr>\n",
       "    <tr>\n",
       "      <th>1</th>\n",
       "      <td>9.089349</td>\n",
       "      <td>8.526816</td>\n",
       "      <td>6.860857</td>\n",
       "      <td>6.399298</td>\n",
       "    </tr>\n",
       "    <tr>\n",
       "      <th>2</th>\n",
       "      <td>9.128825</td>\n",
       "      <td>8.556423</td>\n",
       "      <td>6.831189</td>\n",
       "      <td>6.377155</td>\n",
       "    </tr>\n",
       "    <tr>\n",
       "      <th>3</th>\n",
       "      <td>9.089349</td>\n",
       "      <td>8.546554</td>\n",
       "      <td>6.860857</td>\n",
       "      <td>6.384519</td>\n",
       "    </tr>\n",
       "    <tr>\n",
       "      <th>4</th>\n",
       "      <td>9.099218</td>\n",
       "      <td>8.516947</td>\n",
       "      <td>6.853416</td>\n",
       "      <td>6.406713</td>\n",
       "    </tr>\n",
       "  </tbody>\n",
       "</table>\n",
       "</div>"
      ],
      "text/plain": [
       "   DP1(atm)  DP2(atm)   Kw1(mD)   Kw2(mD)\n",
       "0  9.138694  8.566292  6.823812  6.369808\n",
       "1  9.089349  8.526816  6.860857  6.399298\n",
       "2  9.128825  8.556423  6.831189  6.377155\n",
       "3  9.089349  8.546554  6.860857  6.384519\n",
       "4  9.099218  8.516947  6.853416  6.406713"
      ]
     },
     "execution_count": 20,
     "metadata": {},
     "output_type": "execute_result"
    }
   ],
   "source": [
    "df3.head()"
   ]
  },
  {
   "cell_type": "code",
   "execution_count": 21,
   "id": "6f838a21-8f70-4a7f-9b24-da725130340a",
   "metadata": {},
   "outputs": [
    {
     "data": {
      "text/plain": [
       "Text(0, 0.5, 'probability density function')"
      ]
     },
     "execution_count": 21,
     "metadata": {},
     "output_type": "execute_result"
    },
    {
     "data": {
      "image/png": "[encoded data removed]",
      "text/plain": [
       "<Figure size 1800x800 with 2 Axes>"
      ]
     },
     "metadata": {},
     "output_type": "display_data"
    }
   ],
   "source": [
    "import seaborn as sns\n",
    "\n",
    "fig, axes = plt.subplots(figsize=(18,8), ncols=2, nrows=1)\n",
    "\n",
    "p = sns.kdeplot(df3['DP1(atm)'], ax=axes[0])\n",
    "p.set_xlabel(\"$DP_{1}$\", fontsize = 12)\n",
    "p.set_ylabel(\"probability density function\", fontsize = 12)\n",
    "\n",
    "n = sns.kdeplot(df3['DP2(atm)'], ax=axes[1])\n",
    "n.set_xlabel(\"$DP_{2}$\", fontsize = 12)\n",
    "n.set_ylabel(\"probability density function\", fontsize = 12)"
   ]
  },
  {
   "cell_type": "markdown",
   "id": "4cb027fc-ab14-4848-bbef-58ece61ee0e9",
   "metadata": {},
   "source": [
    "#### From the probability density function figures, it is obvious that the stabilized pressures are normally distributed. The mean values, standard deviation, and the median of the quadrilles are displayed in the table below."
   ]
  },
  {
   "cell_type": "code",
   "execution_count": 22,
   "id": "15c37830-f32d-4af4-9cac-18f523c525ed",
   "metadata": {},
   "outputs": [
    {
     "data": {
      "text/html": [
       "<div>\n",
       "<style scoped>\n",
       "    .dataframe tbody tr th:only-of-type {\n",
       "        vertical-align: middle;\n",
       "    }\n",
       "\n",
       "    .dataframe tbody tr th {\n",
       "        vertical-align: top;\n",
       "    }\n",
       "\n",
       "    .dataframe thead th {\n",
       "        text-align: right;\n",
       "    }\n",
       "</style>\n",
       "<table border=\"1\" class=\"dataframe\">\n",
       "  <thead>\n",
       "    <tr style=\"text-align: right;\">\n",
       "      <th></th>\n",
       "      <th>DP1(atm)</th>\n",
       "      <th>DP2(atm)</th>\n",
       "      <th>Kw1(mD)</th>\n",
       "      <th>Kw2(mD)</th>\n",
       "    </tr>\n",
       "  </thead>\n",
       "  <tbody>\n",
       "    <tr>\n",
       "      <th>count</th>\n",
       "      <td>16.000000</td>\n",
       "      <td>15.000000</td>\n",
       "      <td>16.000000</td>\n",
       "      <td>15.000000</td>\n",
       "    </tr>\n",
       "    <tr>\n",
       "      <th>mean</th>\n",
       "      <td>9.085031</td>\n",
       "      <td>8.511684</td>\n",
       "      <td>6.864200</td>\n",
       "      <td>6.410748</td>\n",
       "    </tr>\n",
       "    <tr>\n",
       "      <th>std</th>\n",
       "      <td>0.032427</td>\n",
       "      <td>0.029810</td>\n",
       "      <td>0.024503</td>\n",
       "      <td>0.022425</td>\n",
       "    </tr>\n",
       "    <tr>\n",
       "      <th>min</th>\n",
       "      <td>9.020266</td>\n",
       "      <td>8.477471</td>\n",
       "      <td>6.823812</td>\n",
       "      <td>6.369808</td>\n",
       "    </tr>\n",
       "    <tr>\n",
       "      <th>25%</th>\n",
       "      <td>9.077013</td>\n",
       "      <td>8.482405</td>\n",
       "      <td>6.858997</td>\n",
       "      <td>6.399298</td>\n",
       "    </tr>\n",
       "    <tr>\n",
       "      <th>50%</th>\n",
       "      <td>9.084414</td>\n",
       "      <td>8.507078</td>\n",
       "      <td>6.864586</td>\n",
       "      <td>6.414146</td>\n",
       "    </tr>\n",
       "    <tr>\n",
       "      <th>75%</th>\n",
       "      <td>9.091816</td>\n",
       "      <td>8.526816</td>\n",
       "      <td>6.870183</td>\n",
       "      <td>6.432804</td>\n",
       "    </tr>\n",
       "    <tr>\n",
       "      <th>max</th>\n",
       "      <td>9.138694</td>\n",
       "      <td>8.566292</td>\n",
       "      <td>6.913402</td>\n",
       "      <td>6.436546</td>\n",
       "    </tr>\n",
       "  </tbody>\n",
       "</table>\n",
       "</div>"
      ],
      "text/plain": [
       "        DP1(atm)   DP2(atm)    Kw1(mD)    Kw2(mD)\n",
       "count  16.000000  15.000000  16.000000  15.000000\n",
       "mean    9.085031   8.511684   6.864200   6.410748\n",
       "std     0.032427   0.029810   0.024503   0.022425\n",
       "min     9.020266   8.477471   6.823812   6.369808\n",
       "25%     9.077013   8.482405   6.858997   6.399298\n",
       "50%     9.084414   8.507078   6.864586   6.414146\n",
       "75%     9.091816   8.526816   6.870183   6.432804\n",
       "max     9.138694   8.566292   6.913402   6.436546"
      ]
     },
     "execution_count": 22,
     "metadata": {},
     "output_type": "execute_result"
    }
   ],
   "source": [
    "df3.describe()"
   ]
  },
  {
   "cell_type": "markdown",
   "id": "770f950d-4689-47f2-a02f-ef9b49f7018b",
   "metadata": {},
   "source": [
    "#### Conducting a t-test at a 99% confidence level for DP1:"
   ]
  },
  {
   "cell_type": "code",
   "execution_count": 23,
   "id": "04f9b25b-b77c-40f1-abf4-e86661c12c73",
   "metadata": {},
   "outputs": [
    {
     "data": {
      "text/plain": [
       "(9.06114335238976, 9.10891927261024)"
      ]
     },
     "execution_count": 23,
     "metadata": {},
     "output_type": "execute_result"
    }
   ],
   "source": [
    "import scipy.stats as stats\n",
    "import math\n",
    "\n",
    "sigma_DP1 = df3[\"DP1(atm)\"].std() / math.sqrt(df3[\"DP1(atm)\"].count())\n",
    "stats.t.interval(0.99, df=df3[\"DP1(atm)\"].count() - 1, loc=df3[\"DP1(atm)\"].mean(), scale=sigma_DP1)"
   ]
  },
  {
   "cell_type": "code",
   "execution_count": 24,
   "id": "ce045068-a7da-446d-bb03-2d9220e459bd",
   "metadata": {},
   "outputs": [
    {
     "name": "stdout",
     "output_type": "stream",
     "text": [
      "The standard deviation of DP1 is 0.023611358715665887 atm\n"
     ]
    }
   ],
   "source": [
    "σ_DP1 = df3[\"DP1(atm)\"].mean() - 9.061419953784334\n",
    "print(\"The standard deviation of DP1 is\", σ_DP1, \"atm\")"
   ]
  },
  {
   "cell_type": "code",
   "execution_count": 25,
   "id": "b892c4b5-52dc-4c7f-af5a-98768c43968a",
   "metadata": {},
   "outputs": [
    {
     "name": "stdout",
     "output_type": "stream",
     "text": [
      "The difference between the sample and t-test's standard deviation is 0.008815227865345748 atm\n"
     ]
    }
   ],
   "source": [
    "print(\"The difference between the sample and t-test's standard deviation is\", df3[\"DP1(atm)\"].std() - σ_DP1 , \"atm\")"
   ]
  },
  {
   "cell_type": "markdown",
   "id": "08f04a90-f239-47c5-ab72-0c411227a299",
   "metadata": {},
   "source": [
    "#### Following the same procedure for DP2:"
   ]
  },
  {
   "cell_type": "code",
   "execution_count": 26,
   "id": "6c58fc51-11a3-4990-af89-69d07530ff68",
   "metadata": {},
   "outputs": [
    {
     "data": {
      "text/plain": [
       "(8.488771084083348, 8.534595982583314)"
      ]
     },
     "execution_count": 26,
     "metadata": {},
     "output_type": "execute_result"
    }
   ],
   "source": [
    "sigma_DP2 = df3[\"DP2(atm)\"].std() / math.sqrt(df3[\"DP2(atm)\"].count())\n",
    "stats.t.interval(0.99, df=df3[\"DP2(atm)\"].count() - 1, loc=df3[\"DP2(atm)\"].mean(), scale=sigma_DP2)"
   ]
  },
  {
   "cell_type": "code",
   "execution_count": 27,
   "id": "7f580107-b60f-49da-b806-2fa36806a47b",
   "metadata": {},
   "outputs": [
    {
     "name": "stdout",
     "output_type": "stream",
     "text": [
      "The standard deviation of DP2 is 0.020233453200237506 atm\n"
     ]
    }
   ],
   "source": [
    "σ_DP2 = df3[\"DP2(atm)\"].mean() - 8.491450080133093\n",
    "print(\"The standard deviation of DP2 is\", σ_DP2, \"atm\")"
   ]
  },
  {
   "cell_type": "code",
   "execution_count": 28,
   "id": "dfad5a7b-a7fb-491c-9a2d-1801502e8e11",
   "metadata": {},
   "outputs": [
    {
     "name": "stdout",
     "output_type": "stream",
     "text": [
      "The difference between the sample and t-test's standard deviation is 0.009576497237893 atm\n"
     ]
    }
   ],
   "source": [
    "print(\"The difference between the sample and t-test's standard deviation is\", df3[\"DP2(atm)\"].std() - σ_DP2, \"atm\")"
   ]
  },
  {
   "cell_type": "markdown",
   "id": "2b228396-0311-4004-83b1-28aca504e492",
   "metadata": {},
   "source": [
    "$${\\mathit{D}P}_1={9.086\\ }^+_-\\ 0.024\\ atm$$ \n",
    "$${\\mathit{D}P}_2={8.515\\ }^+_-\\ 0.023\\ atm$$"
   ]
  },
  {
   "cell_type": "markdown",
   "id": "2b570e47-59be-4176-baeb-2f42a1a01619",
   "metadata": {},
   "source": [
    "#### From Darcy's law, the water permeability ($K_w$) will be calculated using the pressure values obtained."
   ]
  },
  {
   "cell_type": "code",
   "execution_count": 29,
   "id": "8802e06e-951c-4615-90fa-49ef9db908b2",
   "metadata": {},
   "outputs": [
    {
     "name": "stdout",
     "output_type": "stream",
     "text": [
      "The first stabilized value of water permeability is 6.864199996379872 mD\n"
     ]
    }
   ],
   "source": [
    "K_w1 = df3[\"Kw1(mD)\"].mean()\n",
    "print(\"The first stabilized value of water permeability is\", K_w1, \"mD\")"
   ]
  },
  {
   "cell_type": "code",
   "execution_count": 30,
   "id": "76a6ba8f-d9ca-4fb1-a16f-8ed8ff73ea1b",
   "metadata": {},
   "outputs": [
    {
     "name": "stdout",
     "output_type": "stream",
     "text": [
      "The second stabilized value of water permeability is 6.4107482205958926 mD\n"
     ]
    }
   ],
   "source": [
    "K_w2 = df3[\"Kw2(mD)\"].mean()\n",
    "print(\"The second stabilized value of water permeability is\", K_w2, \"mD\")"
   ]
  },
  {
   "cell_type": "markdown",
   "id": "1ab16daf-65fa-404f-865e-56edc26bbd51",
   "metadata": {},
   "source": [
    "$$K_{w1}=6,86\\ mD$$ \n",
    "$$K_{w2}=\\ 6,41\\ mD$$ "
   ]
  },
  {
   "cell_type": "markdown",
   "id": "00c29f2f-f078-4c02-b82d-574e9ac87038",
   "metadata": {},
   "source": [
    "<b>\n",
    "The difference in water permeability is not due to measurement error, as the pressure error is minimal. It is evident that when the flow rate of the measurements is higher, under an overburden pressure of 150 bar, this is caused by electroosmotic phenomena, which is the electrostatic interaction between the clay particles of the rock and polar fluids like water. The fluid exhibits plastic behavior, in that a threshold pressure is needed for flow to begin. The maximum permeability of plastic flow is equivalent to the intrinsic permeability of the rock when electroosmotic phenomena are negligible. The absolute permeability will be calculated using the Buckingham-Reiner equation.\n",
    "</b>"
   ]
  },
  {
   "cell_type": "markdown",
   "id": "bd8ea598-b2de-4fbf-a7c1-7195f0b575e7",
   "metadata": {},
   "source": [
    "$$K_w\\left(\\mathit{D}P\\right)=\\frac{\\mathit{\\Phi}R^2}{8}\\left[1-\\frac{4}{3}\\left(\\frac{2L{\\tau }}{R\\mathit{D}P}\\right)+\\frac{1}{3}{\\left(\\frac{2L{\\tau }}{R\\mathit{D}P}\\right)}^4\\right]$$"
   ]
  },
  {
   "cell_type": "markdown",
   "id": "b27f6eec-547f-4d8e-8c97-934cda0e32e4",
   "metadata": {},
   "source": [
    "##### Setting $x=\\frac{\\tau }{R}$ and dividing $K_{w1}({\\mathit{D}P}_1)$ by $K_{w2}({\\mathit{D}P}_2):$"
   ]
  },
  {
   "cell_type": "markdown",
   "id": "c0e65fbf-08d4-4d43-8ce2-e9a9924a35df",
   "metadata": {},
   "source": [
    "$$ax^4+bx+c=0$$"
   ]
  },
  {
   "cell_type": "markdown",
   "id": "a67f1589-6df6-4fe7-b203-f9222877fb26",
   "metadata": {},
   "source": [
    "$$a=\\frac{16}{3}L^4\\left(\\frac{K_{w2}}{{{\\mathit{D}P}_1}^4}-\\frac{K_{w1}}{{{\\mathit{D}P}_2}^4}\\right),\\ \\ b=\\frac{8}{3}L\\left(\\frac{K_{w1}}{{\\mathit{D}P}_2}-\\frac{K_{w2}}{{\\mathit{D}P}_1}\\right),\\ \\ c=K_{w2}-K_{w1}$$"
   ]
  },
  {
   "cell_type": "code",
   "execution_count": 31,
   "id": "084339d3-a629-4fa5-9b5a-13f0835855a0",
   "metadata": {},
   "outputs": [],
   "source": [
    "a = 16 / 3 * 0.04751 ** 4 * (df3[\"Kw2(mD)\"].mean() * 9.86923266716 * 10 ** -16 / (df3[\"DP1(atm)\"].mean() * 101325) ** \n",
    "    4 - df3[\"Kw1(mD)\"].mean() * 9.86923266716 * 10 ** -16 / (df3[\"DP2(atm)\"].mean() * 101325) ** 4) * 10 ** 16"
   ]
  },
  {
   "cell_type": "code",
   "execution_count": 32,
   "id": "e7974b97-5d82-4856-b56a-07c57ab9e383",
   "metadata": {},
   "outputs": [],
   "source": [
    "b = 8 / 3 * 0.04751 * (df3[\"Kw1(mD)\"].mean() * 9.86923266716 * (10 ** -16) / (df3[\"DP2(atm)\"].mean() * 101325) - \n",
    "    df3[\"Kw2(mD)\"].mean() * 9.86923266716 * (10 ** -16) / (df3[\"DP1(atm)\"].mean() * 101325)) * 10 ** 16"
   ]
  },
  {
   "cell_type": "code",
   "execution_count": 33,
   "id": "f91077e1-f5ab-497e-ae53-f2a0a0d6d345",
   "metadata": {},
   "outputs": [],
   "source": [
    "c = (df3[\"Kw2(mD)\"].mean() * 9.86923266716 * 10 ** -16 - df3[\"Kw1(mD)\"].mean() * 9.86923266716 * 10 ** -16) * 10 ** 16"
   ]
  },
  {
   "cell_type": "markdown",
   "id": "2c0f3769-a0c8-4525-a2b7-b38e2e56ad5f",
   "metadata": {},
   "source": [
    "#### The root of $f(x)=ax^4+bx+c$ will be calculated using the Newton-Raphson method. Defining the Equation and its Derivative:"
   ]
  },
  {
   "cell_type": "code",
   "execution_count": 34,
   "id": "b79633de-e893-4753-a6a3-08b80c1eba40",
   "metadata": {},
   "outputs": [],
   "source": [
    "def f(x):\n",
    "    res = a * x ** 4 + b * x + c\n",
    "    return res\n",
    " \n",
    "def dfdx(x):\n",
    "    res = 4 * a * x ** 3 + b\n",
    "    return res"
   ]
  },
  {
   "cell_type": "markdown",
   "id": "3890f815-27f3-4081-9a0d-099819558f17",
   "metadata": {},
   "source": [
    "#### A maximum number of iterations, decimal tolerance, iteration counter, and initial guess for the root are set. The algorithm will continue to iterate until either the tolerance or the maximum number of iterations is reached."
   ]
  },
  {
   "cell_type": "code",
   "execution_count": 35,
   "id": "cdcc417a-c398-4eef-a7db-b2823fe80787",
   "metadata": {},
   "outputs": [
    {
     "name": "stdout",
     "output_type": "stream",
     "text": [
      "Iteration 0: x = 5000000.0, f(x) = 1.1614267699266048\n",
      "Iteration 1: x = 3506082.484584099, f(x) = -0.25478441362929694\n",
      "Iteration 2: x = 3741317.203776216, f(x) = -0.003981228985428409\n",
      "Iteration 3: x = 3745114.239267704, f(x) = -1.1305424632013228e-06\n",
      "Iteration 4: x = 3745115.318117996, f(x) = -9.14823772291129e-14\n",
      "Iteration 5: x = 3745115.3181180833, f(x) = 0.0\n"
     ]
    }
   ],
   "source": [
    "max_iter = 100 \n",
    "tol = 1E-15  \n",
    "i = 0  \n",
    "x0 = 5E+06  \n",
    "xi_1 = x0\n",
    "\n",
    "print(\"Iteration \" + str(i) + \": x = \" + str(x0) + \", f(x) = \" + str(f(x0)))\n",
    "while abs(f(xi_1)) > tol or i > max_iter:\n",
    "    i = i + 1\n",
    "    xi = xi_1-f(xi_1)/dfdx(xi_1)  \n",
    "    print(\"Iteration \" + str(i) + \": x = \" + str(xi) + \", f(x) = \" +  str(f(xi)))\n",
    "    xi_1 = xi"
   ]
  },
  {
   "cell_type": "markdown",
   "id": "e5534c49-cd02-4e92-b407-6f0fc196fa6d",
   "metadata": {},
   "source": [
    "#### The radius of the capillaries will be determined using the Buckingham-Reiner equation."
   ]
  },
  {
   "cell_type": "code",
   "execution_count": 36,
   "id": "9cbffe2a-a108-4457-ae13-b2f3a3de83af",
   "metadata": {},
   "outputs": [
    {
     "name": "stdout",
     "output_type": "stream",
     "text": [
      "The radius of the capillaries is 0.7755107422754275 μm\n"
     ]
    }
   ],
   "source": [
    "R = np.sqrt( 8 * (df3[\"Kw2(mD)\"].mean() * 9.86923266716 * 10 ** - 16) / (0.183154 * (1 - 4 / 3 * (2 * 0.04751 * xi / \n",
    "    (df3[\"DP2(atm)\"].mean() * 101325)) + 1 / 3 * (2 * 0.04751 * xi / (df3[\"DP2(atm)\"].mean() * 101325)) ** 4))) * 10 ** 6\n",
    "print(\"The radius of the capillaries is\", R, \"μm\")"
   ]
  },
  {
   "cell_type": "markdown",
   "id": "7e88008f-95a3-4d6d-bbaa-a84c9a31d715",
   "metadata": {},
   "source": [
    "#### The threshold shear stress between the layers of water for the flow to be initiated:"
   ]
  },
  {
   "cell_type": "code",
   "execution_count": 37,
   "id": "f2e75193-e9ea-44e4-9e1e-d7de995d95c3",
   "metadata": {},
   "outputs": [
    {
     "name": "stdout",
     "output_type": "stream",
     "text": [
      "The threshold shear stress equals 2.9043771602608284 Pa\n"
     ]
    }
   ],
   "source": [
    "τ = R * 10 ** -6 * xi\n",
    "print(\"The threshold shear stress equals\", τ, \"Pa\")"
   ]
  },
  {
   "cell_type": "markdown",
   "id": "ef952fee-e8a8-4b68-8220-7d3f66008ec0",
   "metadata": {},
   "source": [
    "$$K_{max}={\\mathop{lim}_{\\mathit{\\Delta}P\\to \\infty } K_w\\left(\\mathit{\\Delta}P\\right)\\ }=\\frac{\\mathit{\\Phi}R^2}{8}$$"
   ]
  },
  {
   "cell_type": "code",
   "execution_count": 38,
   "id": "1f34f0d7-95d2-4651-8599-6b8b6c06ec0e",
   "metadata": {},
   "outputs": [
    {
     "name": "stdout",
     "output_type": "stream",
     "text": [
      "The maximum permeability of water is 13.951428229352453 mD\n"
     ]
    }
   ],
   "source": [
    "K_max = (R * 10 ** -6) ** 2 * 0.183154 / 8 * 1.01325 * 10 ** 15\n",
    "print(\"The maximum permeability of water is\", K_max, \"mD\")"
   ]
  },
  {
   "cell_type": "markdown",
   "id": "7220fbca-72c8-44a8-81fb-8cfa17c7ffc3",
   "metadata": {},
   "source": [
    "#### $${\\boldsymbol{K}}_{\\boldsymbol{max}}\\boldsymbol{=}\\boldsymbol{14}.\\boldsymbol{02}\\boldsymbol{\\ }\\boldsymbol{mD}$$"
   ]
  },
  {
   "cell_type": "code",
   "execution_count": 39,
   "id": "aa10d345-a6e5-4664-85a8-fc5a9f5f0553",
   "metadata": {},
   "outputs": [
    {
     "data": {
      "text/html": [
       "<div>\n",
       "<style scoped>\n",
       "    .dataframe tbody tr th:only-of-type {\n",
       "        vertical-align: middle;\n",
       "    }\n",
       "\n",
       "    .dataframe tbody tr th {\n",
       "        vertical-align: top;\n",
       "    }\n",
       "\n",
       "    .dataframe thead th {\n",
       "        text-align: right;\n",
       "    }\n",
       "</style>\n",
       "<table border=\"1\" class=\"dataframe\">\n",
       "  <thead>\n",
       "    <tr style=\"text-align: right;\">\n",
       "      <th></th>\n",
       "      <th>DP(atm)</th>\n",
       "      <th>Kw(mD)</th>\n",
       "    </tr>\n",
       "  </thead>\n",
       "  <tbody>\n",
       "    <tr>\n",
       "      <th>0</th>\n",
       "      <td>5.0</td>\n",
       "      <td>2.017243</td>\n",
       "    </tr>\n",
       "    <tr>\n",
       "      <th>1</th>\n",
       "      <td>5.5</td>\n",
       "      <td>2.846234</td>\n",
       "    </tr>\n",
       "    <tr>\n",
       "      <th>2</th>\n",
       "      <td>6.0</td>\n",
       "      <td>3.608828</td>\n",
       "    </tr>\n",
       "    <tr>\n",
       "      <th>3</th>\n",
       "      <td>6.5</td>\n",
       "      <td>4.296833</td>\n",
       "    </tr>\n",
       "    <tr>\n",
       "      <th>4</th>\n",
       "      <td>7.0</td>\n",
       "      <td>4.913078</td>\n",
       "    </tr>\n",
       "  </tbody>\n",
       "</table>\n",
       "</div>"
      ],
      "text/plain": [
       "   DP(atm)    Kw(mD)\n",
       "0      5.0  2.017243\n",
       "1      5.5  2.846234\n",
       "2      6.0  3.608828\n",
       "3      6.5  4.296833\n",
       "4      7.0  4.913078"
      ]
     },
     "execution_count": 39,
     "metadata": {},
     "output_type": "execute_result"
    }
   ],
   "source": [
    "#skiprows+2=excel_rows\n",
    "df4 = pd.read_excel(\"liquid permeability.xlsx\", sheet_name=\"Kw60bar2\", skiprows=33, usecols=[10, 11], nrows=22)  \n",
    "df4.columns = [\"DP(atm)\", \"Kw(mD)\"]\n",
    "df4.head()"
   ]
  },
  {
   "cell_type": "code",
   "execution_count": 40,
   "id": "113908cf-f522-4e38-8ffa-c5a30f424d29",
   "metadata": {},
   "outputs": [
    {
     "data": {
      "text/plain": [
       "[<matplotlib.lines.Line2D at 0x1f00f25eca0>]"
      ]
     },
     "execution_count": 40,
     "metadata": {},
     "output_type": "execute_result"
    },
    {
     "data": {
      "image/png": "[encoded data removed]",
      "text/plain": [
       "<Figure size 1000x600 with 1 Axes>"
      ]
     },
     "metadata": {},
     "output_type": "display_data"
    }
   ],
   "source": [
    "width = 10\n",
    "height = 6\n",
    "plt.figure(figsize=(width, height))\n",
    "\n",
    "plt.xlabel(\"DP(atm)\", fontsize = 10)\n",
    "plt.ylabel(\"$K_{w}(mD)$\", fontsize = 10)\n",
    "plt.ylim((2,14))\n",
    "plt.xlim((0,300))\n",
    "plt.title(\"Permeability of water under 60 bar of overburden pressure\", fontsize = 14)\n",
    "\n",
    "plt.plot(df4[\"DP(atm)\"], df4[\"Kw(mD)\"], \"b\")"
   ]
  },
  {
   "cell_type": "markdown",
   "id": "3ccd1548-51e8-48a8-a4e0-92a21b34aab2",
   "metadata": {},
   "source": [
    "#### From the figure, it is clear that the permeability of water reaches a plateau. With an infinite value for the differential pressure, the permeability line meets the plateau at 14.02 mD."
   ]
  },
  {
   "cell_type": "markdown",
   "id": "fc880861-06c6-4538-b2e6-cf1ff9971a78",
   "metadata": {},
   "source": [
    "#### The pressure of water when the flow rate is higher, under 150 bar of overburden pressure, stabilized completely and the values were much higher. This allows the experimental data to be compared with the Buckingham-Reiner line. Additionally, when the flow rate is decreased, the values also stabilized quickly."
   ]
  },
  {
   "cell_type": "code",
   "execution_count": 41,
   "id": "92d578ae-e324-4580-85d6-2b7ed6c64ff1",
   "metadata": {},
   "outputs": [
    {
     "data": {
      "text/html": [
       "<div>\n",
       "<style scoped>\n",
       "    .dataframe tbody tr th:only-of-type {\n",
       "        vertical-align: middle;\n",
       "    }\n",
       "\n",
       "    .dataframe tbody tr th {\n",
       "        vertical-align: top;\n",
       "    }\n",
       "\n",
       "    .dataframe thead th {\n",
       "        text-align: right;\n",
       "    }\n",
       "</style>\n",
       "<table border=\"1\" class=\"dataframe\">\n",
       "  <thead>\n",
       "    <tr style=\"text-align: right;\">\n",
       "      <th></th>\n",
       "      <th>DP(atm)</th>\n",
       "      <th>Kw(mD)</th>\n",
       "    </tr>\n",
       "  </thead>\n",
       "  <tbody>\n",
       "    <tr>\n",
       "      <th>0</th>\n",
       "      <td>80.9258</td>\n",
       "      <td>1.155887</td>\n",
       "    </tr>\n",
       "    <tr>\n",
       "      <th>1</th>\n",
       "      <td>90.7948</td>\n",
       "      <td>1.201955</td>\n",
       "    </tr>\n",
       "    <tr>\n",
       "      <th>2</th>\n",
       "      <td>68.0961</td>\n",
       "      <td>1.144719</td>\n",
       "    </tr>\n",
       "    <tr>\n",
       "      <th>3</th>\n",
       "      <td>55.2664</td>\n",
       "      <td>1.128366</td>\n",
       "    </tr>\n",
       "    <tr>\n",
       "      <th>4</th>\n",
       "      <td>44.4105</td>\n",
       "      <td>1.053142</td>\n",
       "    </tr>\n",
       "  </tbody>\n",
       "</table>\n",
       "</div>"
      ],
      "text/plain": [
       "   DP(atm)    Kw(mD)\n",
       "0  80.9258  1.155887\n",
       "1  90.7948  1.201955\n",
       "2  68.0961  1.144719\n",
       "3  55.2664  1.128366\n",
       "4  44.4105  1.053142"
      ]
     },
     "execution_count": 41,
     "metadata": {},
     "output_type": "execute_result"
    }
   ],
   "source": [
    "#skiprows+2=excel_rows\n",
    "df5 = pd.read_excel(\"liquid permeability.xlsx\", sheet_name=\"Kw,abs150bar\", skiprows=91, usecols=[11, 13], nrows=8)  \n",
    "df5.columns = [\"DP(atm)\", \"Kw(mD)\"]\n",
    "df5.head()"
   ]
  },
  {
   "cell_type": "markdown",
   "id": "6b11ec04-22c6-4288-b29e-54c371730c55",
   "metadata": {},
   "source": [
    "#### The same procedure will be followed as well."
   ]
  },
  {
   "cell_type": "markdown",
   "id": "1f2853b8-d29c-4f26-8637-1467dbb06007",
   "metadata": {},
   "source": [
    "$$K_{w1}=0.59\\ mD$$ \n",
    "$$K_{w2}=\\ 1.20\\ mD$$ "
   ]
  },
  {
   "cell_type": "code",
   "execution_count": 42,
   "id": "8a4d8f4a-1884-4837-bf96-8e419b9c043f",
   "metadata": {},
   "outputs": [],
   "source": [
    "K_w2 = df5.iat[0,1]\n",
    "DP_2 = df5.iat[0,0]\n",
    "\n",
    "K_w1 = df5.iat[7,1]\n",
    "DP_1 = df5.iat[7,0]"
   ]
  },
  {
   "cell_type": "code",
   "execution_count": 43,
   "id": "ef9d4c6e-0d44-4970-9288-e01dca6c6942",
   "metadata": {},
   "outputs": [],
   "source": [
    "a = 16 / 3 * 0.04751 ** 4 * (K_w2 * 9.86923266716 * 10 ** -16 / (DP_1*101325) ** 4 - K_w1 * 9.86923266716 * \n",
    "    10 ** -16 / (DP_2 * 101325) ** 4) * 10 ** 16"
   ]
  },
  {
   "cell_type": "code",
   "execution_count": 44,
   "id": "7fd40742-ae12-4859-8ffa-aaa079d6b68c",
   "metadata": {},
   "outputs": [],
   "source": [
    "b = 8 / 3 * 0.04751 * (K_w1 * 9.86923266716 * (10 ** -16) / (DP_2 * 101325) - K_w2 * 9.86923266716 * (10 ** -16) / \n",
    "    (DP_1 * 101325)) * 10 ** 16"
   ]
  },
  {
   "cell_type": "code",
   "execution_count": 45,
   "id": "30af0cc4-5668-4d4b-bfc8-9f2797ca84db",
   "metadata": {},
   "outputs": [],
   "source": [
    "c = (K_w2 * 9.86923266716 * 10 ** -16 - K_w1 * 9.86923266716 * 10 ** -16) * 10 ** 16"
   ]
  },
  {
   "cell_type": "code",
   "execution_count": 46,
   "id": "d60eefa6-30ee-4ea6-bd41-11210e9cdd0d",
   "metadata": {},
   "outputs": [],
   "source": [
    "def f(x):\n",
    "    res = a * x ** 4 + b * x + c\n",
    "    return res\n",
    " \n",
    "def dfdx(x):\n",
    "    res = 4 * a * x ** 3 + b\n",
    "    return res"
   ]
  },
  {
   "cell_type": "code",
   "execution_count": 47,
   "id": "8ec5ad59-1459-4b01-bc12-013a8d0fac7e",
   "metadata": {},
   "outputs": [
    {
     "name": "stdout",
     "output_type": "stream",
     "text": [
      "Iteration 0: x = 6000000.0, f(x) = -0.13396613669291657\n",
      "Iteration 1: x = 5851276.994224702, f(x) = 0.0004384304582805143\n",
      "Iteration 2: x = 5851760.580429781, f(x) = 4.482355819845907e-09\n",
      "Iteration 3: x = 5851760.585373894, f(x) = 0.0\n"
     ]
    }
   ],
   "source": [
    "max_iter = 100 \n",
    "tol = 1E-15  \n",
    "i = 0  \n",
    "x0 = 6E+6  \n",
    "xi_1 = x0\n",
    "\n",
    "print(\"Iteration \" + str(i) + \": x = \" + str(x0) + \", f(x) = \" + str(f(x0)))\n",
    "while abs(f(xi_1)) > tol or i > max_iter:\n",
    "    i = i + 1\n",
    "    xi = xi_1-f(xi_1)/dfdx(xi_1)  \n",
    "    print(\"Iteration \" + str(i) + \": x = \" + str(xi) + \", f(x) = \" + str(f(xi)))\n",
    "    xi_1 = xi"
   ]
  },
  {
   "cell_type": "code",
   "execution_count": 48,
   "id": "9603fa7f-3fc3-4022-9495-ff5b15de52c4",
   "metadata": {},
   "outputs": [
    {
     "name": "stdout",
     "output_type": "stream",
     "text": [
      "The radius of the capillaries is 0.23405217497585218 μm\n"
     ]
    }
   ],
   "source": [
    "R = np.sqrt(8 * (K_w2 * 9.86923266716 * 10 ** -16) / ( 0.183154 * (1 - 4 / 3 * (2 * 0.04751 * xi / \n",
    "    (DP_2 * 101325)) + 1 / 3 * (2 * 0.04751 * xi / (DP_2 * 101325)) ** 4))) * 10 ** 6\n",
    "print(\"The radius of the capillaries is\", R, \"μm\")"
   ]
  },
  {
   "cell_type": "code",
   "execution_count": 49,
   "id": "a90d3766-9641-498f-8013-c0d8309d600b",
   "metadata": {},
   "outputs": [
    {
     "name": "stdout",
     "output_type": "stream",
     "text": [
      "The threshold shear stress equals 1.3696172924447259 Pa\n"
     ]
    }
   ],
   "source": [
    "τ = R * 10 ** -6 * xi\n",
    "print(\"The threshold shear stress equals\", τ, \"Pa\")"
   ]
  },
  {
   "cell_type": "code",
   "execution_count": 50,
   "id": "51a5e828-2899-4cc0-b83b-553ae97dd28f",
   "metadata": {},
   "outputs": [
    {
     "name": "stdout",
     "output_type": "stream",
     "text": [
      "The maximum permeability of water is 1.2707742201122887 mD\n"
     ]
    }
   ],
   "source": [
    "K_max = (R * 10 ** -6) ** 2 * 0.183154 / 8 * 1.01325 * 10 ** 15\n",
    "print(\"The maximum permeability of water is\", K_max, \"mD\")"
   ]
  },
  {
   "cell_type": "markdown",
   "id": "3699d89b-1351-4a2c-abde-6b6d5ae504f1",
   "metadata": {},
   "source": [
    "#### $${\\boldsymbol{K}}_{\\boldsymbol{max}}\\boldsymbol{=}\\boldsymbol{1}.\\boldsymbol{31}\\boldsymbol{\\ }\\boldsymbol{mD}$$"
   ]
  },
  {
   "cell_type": "markdown",
   "id": "256b2f6f-2c93-41ca-8ed3-ac7f9027ecbd",
   "metadata": {},
   "source": [
    "#### Creating a data frame using the Buckingham-Reiner equation:"
   ]
  },
  {
   "cell_type": "code",
   "execution_count": 51,
   "id": "c7965562-cec4-4b18-8f67-14165316741d",
   "metadata": {},
   "outputs": [
    {
     "data": {
      "text/html": [
       "<div>\n",
       "<style scoped>\n",
       "    .dataframe tbody tr th:only-of-type {\n",
       "        vertical-align: middle;\n",
       "    }\n",
       "\n",
       "    .dataframe tbody tr th {\n",
       "        vertical-align: top;\n",
       "    }\n",
       "\n",
       "    .dataframe thead th {\n",
       "        text-align: right;\n",
       "    }\n",
       "</style>\n",
       "<table border=\"1\" class=\"dataframe\">\n",
       "  <thead>\n",
       "    <tr style=\"text-align: right;\">\n",
       "      <th></th>\n",
       "      <th>DP(atm)</th>\n",
       "      <th>Kw(mD)</th>\n",
       "    </tr>\n",
       "  </thead>\n",
       "  <tbody>\n",
       "    <tr>\n",
       "      <th>0</th>\n",
       "      <td>10</td>\n",
       "      <td>0.369500</td>\n",
       "    </tr>\n",
       "    <tr>\n",
       "      <th>1</th>\n",
       "      <td>20</td>\n",
       "      <td>0.820664</td>\n",
       "    </tr>\n",
       "    <tr>\n",
       "      <th>2</th>\n",
       "      <td>30</td>\n",
       "      <td>0.982630</td>\n",
       "    </tr>\n",
       "    <tr>\n",
       "      <th>3</th>\n",
       "      <td>40</td>\n",
       "      <td>1.064347</td>\n",
       "    </tr>\n",
       "    <tr>\n",
       "      <th>4</th>\n",
       "      <td>50</td>\n",
       "      <td>1.113499</td>\n",
       "    </tr>\n",
       "  </tbody>\n",
       "</table>\n",
       "</div>"
      ],
      "text/plain": [
       "   DP(atm)    Kw(mD)\n",
       "0       10  0.369500\n",
       "1       20  0.820664\n",
       "2       30  0.982630\n",
       "3       40  1.064347\n",
       "4       50  1.113499"
      ]
     },
     "execution_count": 51,
     "metadata": {},
     "output_type": "execute_result"
    }
   ],
   "source": [
    "#skiprows+2=excel_rows\n",
    "df6 = pd.read_excel(\"liquid permeability.xlsx\", sheet_name=\"Kw,abs150bar\", skiprows=116, usecols=[25, 28], nrows=10)  \n",
    "df6.columns = [\"DP(atm)\", \"Kw(mD)\"]\n",
    "df6.head()"
   ]
  },
  {
   "cell_type": "code",
   "execution_count": 52,
   "id": "92ceea4a-70d1-4f6b-ad4f-bef28eab08e6",
   "metadata": {},
   "outputs": [
    {
     "data": {
      "image/png": "[encoded data removed]",
      "text/plain": [
       "<Figure size 1000x600 with 1 Axes>"
      ]
     },
     "metadata": {},
     "output_type": "display_data"
    }
   ],
   "source": [
    "width = 10\n",
    "height = 6\n",
    "plt.figure(figsize=(width, height))\n",
    "\n",
    "plt.xlabel(\"DP(atm)\", fontsize = 10)\n",
    "plt.ylabel(\"$K_{w}(mD)$\", fontsize = 10)\n",
    "plt.title(\"Permeability of water under 150 bar of overburden pressure\", fontsize = 14)\n",
    "\n",
    "plt.scatter(df5[\"DP(atm)\"], df5[\"Kw(mD)\"], c =\"red\", label=\"experimental data\")\n",
    "plt.plot(df6[\"DP(atm)\"], df6[\"Kw(mD)\"], label=\"Buckingham-Reiner\")\n",
    "plt.legend();"
   ]
  },
  {
   "cell_type": "markdown",
   "id": "140a7ec5-a0ea-41d8-888f-92010e3d269f",
   "metadata": {},
   "source": [
    "<b>\n",
    "As it is evident from the figure, the experimental data are in close proximity to the Buckingham-Reiner line. It is also worth noting that the corrected air permeability and the maximum permeability of the plastic flow, under the same overburden pressure, are very similar to each other. This suggests that they are consistent with the absolute permeability of the sandstone.\n",
    "</b>"
   ]
  }
 ],
 "metadata": {
  "kernelspec": {
   "display_name": "Python 3 (ipykernel)",
   "language": "python",
   "name": "python3"
  },
  "language_info": {
   "codemirror_mode": {
    "name": "ipython",
    "version": 3
   },
   "file_extension": ".py",
   "mimetype": "text/x-python",
   "name": "python",
   "nbconvert_exporter": "python",
   "pygments_lexer": "ipython3",
   "version": "3.9.13"
  },
  "toc-showmarkdowntxt": false
 },
 "nbformat": 4,
 "nbformat_minor": 5
}
